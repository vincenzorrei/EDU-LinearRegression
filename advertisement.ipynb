{
 "cells": [
  {
   "cell_type": "markdown",
   "metadata": {},
   "source": [
    "# Simple Linear Regression"
   ]
  },
  {
   "cell_type": "code",
   "execution_count": 32,
   "metadata": {},
   "outputs": [],
   "source": [
    "import numpy as np\n",
    "import pandas as pd\n",
    "import seaborn as sns\n",
    "import matplotlib.pyplot as plt\n",
    "\n",
    "import statsmodels.formula.api as smf\n",
    "from sklearn.linear_model import LinearRegression\n"
   ]
  },
  {
   "cell_type": "markdown",
   "metadata": {},
   "source": [
    "## Explore the dataframe\n"
   ]
  },
  {
   "cell_type": "markdown",
   "metadata": {},
   "source": [
    "To import a CSV file into a DataFrame using the `pandas` library, you can specify the file path in two ways:\n",
    "\n",
    "1. **Local Path**: The CSV file is stored locally on your computer.\n",
    "\n",
    "2. **URL**: The CSV file is hosted online and accessible via a URL.\n",
    "\n",
    "In the provided code, both methods are demonstrated:\n"
   ]
  },
  {
   "cell_type": "code",
   "execution_count": 33,
   "metadata": {},
   "outputs": [],
   "source": [
    "# Importing the Advertising dataset\n",
    "\n",
    "# advertising = pd.read_csv('data/Advertising.csv', usecols=[1,2,3,4])\n",
    "advertising = pd.read_csv('https://raw.githubusercontent.com/vincenzorrei/EDU-Datasets/refs/heads/main/Advertising.csv', usecols=[1,2,3,4])\n"
   ]
  },
  {
   "cell_type": "markdown",
   "metadata": {},
   "source": [
    "To explore the initial rows of the `advertising` DataFrame, you can use the `head()` method:\n"
   ]
  },
  {
   "cell_type": "code",
   "execution_count": null,
   "metadata": {},
   "outputs": [],
   "source": [
    "# Explore the data\n",
    "advertising.head()\n"
   ]
  },
  {
   "cell_type": "markdown",
   "metadata": {},
   "source": [
    "To generate a synthetic descriptive table of the `advertising` dataset, you can use the `describe()` method from the pandas library:"
   ]
  },
  {
   "cell_type": "code",
   "execution_count": null,
   "metadata": {},
   "outputs": [],
   "source": [
    "# Generate descriptive statistics of the advertising dataset\n",
    "advertising.describe()\n"
   ]
  },
  {
   "cell_type": "code",
   "execution_count": null,
   "metadata": {},
   "outputs": [],
   "source": [
    "# Correlation matrix\n",
    "correlation_matrix = advertising.corr()\n",
    "correlation_matrix\n"
   ]
  },
  {
   "cell_type": "code",
   "execution_count": null,
   "metadata": {},
   "outputs": [],
   "source": [
    "# Correlation matrix heatmap\n",
    "plt.figure(figsize=(10, 8))\n",
    "sns.heatmap(correlation_matrix,\n",
    "            annot=True,\n",
    "            cmap='coolwarm',\n",
    "            linewidths=0.5,\n",
    "            vmin=-1,\n",
    "            vmax=1)\n",
    "plt.title('Correlation Matrix of Advertising Data')\n",
    "plt.show()\n"
   ]
  },
  {
   "cell_type": "markdown",
   "metadata": {},
   "source": [
    "The provided code utilizes Seaborn's `regplot` function to create a scatter plot with a fitted regression line, illustrating the relationship between radio advertising expenditures and sales:"
   ]
  },
  {
   "cell_type": "code",
   "execution_count": null,
   "metadata": {},
   "outputs": [],
   "source": [
    "# Create a scatter plot with a regression line\n",
    "sns.regplot(\n",
    "    x=advertising.radio,\n",
    "    y=advertising.sales,\n",
    "    order=1,  # Specifies a linear regression model: increase to overfit! default=1\n",
    "    ci=None,  # Omits the confidence interval for the regression line\n",
    "    scatter_kws={'color': 'r', 's': 9}  # Sets the color and size of the scatter plot points\n",
    ")\n",
    "\n",
    "# Display the plot\n",
    "plt.show()\n"
   ]
  },
  {
   "cell_type": "markdown",
   "metadata": {},
   "source": [
    "## Parameter Estimation\n"
   ]
  },
  {
   "cell_type": "markdown",
   "metadata": {},
   "source": [
    "\n",
    "In this section, we will estimate parameters using two prominent Python libraries:\n",
    "\n",
    "- **statsmodels**\n",
    "- **scikit-learn**\n",
    "\n",
    "**Comparison between scikit-learn and statsmodels:**\n",
    "\n",
    "- **scikit-learn**: Primarily designed for predictive modeling, scikit-learn focuses on model performance metrics. It does not automatically provide statistical details such as t-values, p-values, or standard errors. To obtain these, one would need to use statsmodels or additional statistical methods.\n",
    "\n",
    "- **statsmodels**: Tailored for statistical analysis, statsmodels offers comprehensive outputs, including detailed statistical tests and metrics, making it suitable for in-depth data exploration and inferential statistics.\n"
   ]
  },
  {
   "cell_type": "markdown",
   "metadata": {},
   "source": [
    "### 1) Statsmodels library\n"
   ]
  },
  {
   "cell_type": "markdown",
   "metadata": {},
   "source": [
    "\n",
    "In this section, we will perform an Ordinary Least Squares (OLS) regression analysis to examine the relationship between sales and radio advertising expenditures using the `statsmodels` library in Python.\n",
    "\n",
    "**Explanation:**\n",
    "\n",
    "- **Model Specification**: The formula `'sales ~ radio'` indicates that we are modeling `sales` as a function of `radio` advertising expenditures, where `sales` is the dependent variable and `radio` is the independent variable.\n",
    "\n",
    "- **Fitting the Model**: The `fit()` method estimates the parameters of the OLS regression model using the provided `advertising` dataset.\n",
    "\n",
    "- **Displaying the Summary Table**: The `summary()` method generates a comprehensive summary of the regression results. Accessing `tables[1]` specifically retrieves the table containing the estimated coefficients, their standard errors, t-values, and associated p-values.\n",
    "\n",
    "This analysis helps us understand the influence of radio advertising on sales by quantifying the relationship between the two variables."
   ]
  },
  {
   "cell_type": "code",
   "execution_count": null,
   "metadata": {},
   "outputs": [],
   "source": [
    "# Fit the OLS model\n",
    "est = smf.ols('sales ~ radio', data=advertising).fit()\n",
    "\n",
    "# Display the summary table of regression coefficients\n",
    "est.summary().tables[1] # Display the summary table of regression coefficients\n"
   ]
  },
  {
   "cell_type": "code",
   "execution_count": 40,
   "metadata": {},
   "outputs": [],
   "source": [
    "# Store the regression coefficients\n",
    "statsmodels_slope = est.params['radio']\n",
    "statsmodels_intercept = est.params['Intercept']\n"
   ]
  },
  {
   "cell_type": "markdown",
   "metadata": {},
   "source": [
    "### 2) Scikit-learn\n",
    "\n",
    "\n"
   ]
  },
  {
   "cell_type": "markdown",
   "metadata": {},
   "source": [
    "Scikit-learn, often abbreviated as `sklearn`, is a powerful open-source Python library designed for machine learning and data analysis. Built upon foundational libraries like NumPy and SciPy, it offers efficient implementations of a wide range of machine learning algorithms\n",
    "\n",
    "**Explanation:**\n",
    "\n",
    "- **Data Preparation**: The predictor variable `radio` is extracted from the `advertising` DataFrame and reshaped into a 2D array using `reshape(-1, 1)`, as scikit-learn's `LinearRegression` expects the input features in this format. The target variable `sales` is assigned to `y`.\n",
    "\n",
    "- **Model Initialization and Fitting**: An instance of `LinearRegression` is created and fitted to the data using `model.fit(X, y)`, which computes the best-fit line for predicting `sales` based on `radio` advertising expenditures.\n",
    "\n",
    "- **Retrieving Parameters**: The intercept and slope of the regression line are obtained from `model.intercept_` and `model.coef_[0]`, respectively.\n",
    "\n",
    "\n",
    "This approach ensures that the predictor variable is correctly shaped for model fitting and that parameter comparisons account for potential floating-point precision issues."
   ]
  },
  {
   "cell_type": "code",
   "execution_count": null,
   "metadata": {},
   "outputs": [],
   "source": [
    "\n",
    "# Reshape the predictor variable\n",
    "X = advertising['radio'].values.reshape(-1, 1)\n",
    "y = advertising['sales']\n",
    "\n",
    "# Initialize and fit the linear regression model\n",
    "model = LinearRegression()\n",
    "model.fit(X, y)\n"
   ]
  },
  {
   "cell_type": "code",
   "execution_count": 42,
   "metadata": {},
   "outputs": [],
   "source": [
    "# Accessing the slope (coefficient) and intercept\n",
    "sklearn_slope = model.coef_[0]\n",
    "sklearn_intercept = model.intercept_\n"
   ]
  },
  {
   "cell_type": "code",
   "execution_count": null,
   "metadata": {},
   "outputs": [],
   "source": [
    "print(f'Sklearn - Intercept: {sklearn_intercept:.2f}\\nSklearn - Slope: {sklearn_slope:.2f}\\n')\n",
    "print(f'Statsmodels - Intercept: {statsmodels_intercept:.2f}\\nStatsmodels - Slope: {statsmodels_slope:.2f}')\n"
   ]
  },
  {
   "cell_type": "markdown",
   "metadata": {},
   "source": [
    "### Inspect Regression results"
   ]
  },
  {
   "cell_type": "markdown",
   "metadata": {},
   "source": [
    "# Multiple Linear Regression\n"
   ]
  },
  {
   "cell_type": "code",
   "execution_count": null,
   "metadata": {},
   "outputs": [],
   "source": [
    "# Parameters estimation with statsmodels\n",
    "est = smf.ols('sales ~ TV + radio + newspaper', advertising).fit()\n",
    "est.summary()\n"
   ]
  },
  {
   "cell_type": "code",
   "execution_count": null,
   "metadata": {},
   "outputs": [],
   "source": [
    "# Parameters estimation with statsmodels\n",
    "est = smf.ols('sales ~ TV + radio', advertising).fit()\n",
    "est.summary()\n"
   ]
  },
  {
   "cell_type": "code",
   "execution_count": null,
   "metadata": {},
   "outputs": [],
   "source": [
    "# Parameters estimation with sklearn\n",
    "regr = LinearRegression()\n",
    "\n",
    "X = advertising[['radio', 'TV']]\n",
    "y = advertising.sales\n",
    "\n",
    "regr.fit(X,y)\n",
    "\n",
    "# Create a coordinate grid\n",
    "Radio = np.arange(0,50)\n",
    "TV = np.arange(0,300)\n",
    "\n",
    "B1, B2 = np.meshgrid(Radio, TV, indexing='xy')\n",
    "Z = np.zeros((TV.size, Radio.size))\n",
    "\n",
    "for (i,j),v in np.ndenumerate(Z):\n",
    "        Z[i,j] =(regr.intercept_ + B1[i,j]*regr.coef_[0] + B2[i,j]*regr.coef_[1])\n",
    "\n",
    "# Create plot\n",
    "fig = plt.figure(figsize=(10, 6))\n",
    "ax = fig.add_subplot(111, projection='3d')\n",
    "fig.suptitle('Regression: Sales ~ Radio + TV Advertising', fontsize=20)\n",
    "\n",
    "ax.plot_surface(B1, B2, Z, rstride=1, cstride=1, alpha=0.4)\n",
    "ax.scatter(advertising['radio'], advertising['TV'], advertising['sales'], c='r')\n",
    "\n",
    "ax.set_xlabel('Radio')\n",
    "ax.set_xlim(0, 50)\n",
    "ax.set_ylabel('TV')\n",
    "ax.set_ylim(0, 300)\n",
    "ax.set_zlabel('Sales')\n",
    "\n",
    "plt.show()\n"
   ]
  }
 ],
 "metadata": {
  "kernelspec": {
   "display_name": ".venv",
   "language": "python",
   "name": "python3"
  },
  "language_info": {
   "codemirror_mode": {
    "name": "ipython",
    "version": 3
   },
   "file_extension": ".py",
   "mimetype": "text/x-python",
   "name": "python",
   "nbconvert_exporter": "python",
   "pygments_lexer": "ipython3",
   "version": "3.12.4"
  }
 },
 "nbformat": 4,
 "nbformat_minor": 2
}
